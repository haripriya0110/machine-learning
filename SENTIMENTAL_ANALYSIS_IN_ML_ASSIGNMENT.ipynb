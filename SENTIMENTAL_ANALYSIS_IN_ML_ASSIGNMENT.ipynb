{
  "nbformat": 4,
  "nbformat_minor": 0,
  "metadata": {
    "colab": {
      "provenance": [],
      "authorship_tag": "ABX9TyPV8Fiui4Zi6PSvO6zroOtF",
      "include_colab_link": true
    },
    "kernelspec": {
      "name": "python3",
      "display_name": "Python 3"
    },
    "language_info": {
      "name": "python"
    }
  },
  "cells": [
    {
      "cell_type": "markdown",
      "metadata": {
        "id": "view-in-github",
        "colab_type": "text"
      },
      "source": [
        "<a href=\"https://colab.research.google.com/github/haripriya0110/machine-learning/blob/main/SENTIMENTAL_ANALYSIS_IN_ML_ASSIGNMENT.ipynb\" target=\"_parent\"><img src=\"https://colab.research.google.com/assets/colab-badge.svg\" alt=\"Open In Colab\"/></a>"
      ]
    },
    {
      "cell_type": "code",
      "execution_count": 1,
      "metadata": {
        "colab": {
          "base_uri": "https://localhost:8080/"
        },
        "id": "TuFm1z6ifMUe",
        "outputId": "fd0d4804-c821-4ac2-a26a-154427db1a71"
      },
      "outputs": [
        {
          "output_type": "stream",
          "name": "stderr",
          "text": [
            "[nltk_data] Downloading package movie_reviews to /root/nltk_data...\n",
            "[nltk_data]   Unzipping corpora/movie_reviews.zip.\n"
          ]
        },
        {
          "output_type": "execute_result",
          "data": {
            "text/plain": [
              "True"
            ]
          },
          "metadata": {},
          "execution_count": 1
        }
      ],
      "source": [
        "import nltk\n",
        "nltk.download('movie_reviews')"
      ]
    },
    {
      "cell_type": "code",
      "source": [
        "import nltk\n",
        "from nltk.corpus import movie_reviews\n",
        "from nltk.classify import NaiveBayesClassifier\n",
        "from nltk.classify.util import accuracy\n",
        "\n",
        "# Load dataset\n",
        "nltk.download('movie_reviews')\n",
        "documents = [(list(movie_reviews.words(fileid)), category)\n",
        "             for category in movie_reviews.categories()\n",
        "             for fileid in movie_reviews.fileids(category)]\n",
        "\n",
        "# Split dataset into training and testing sets\n",
        "train_set = documents[:1500]\n",
        "test_set = documents[1500:]\n",
        "\n",
        "# Define feature extractor\n",
        "def word_features(words):\n",
        "    return dict([(word, True) for word in words])\n",
        "\n",
        "# Extract features from text\n",
        "training_features = [(word_features(doc), category) for (doc, category) in train_set]\n",
        "testing_features = [(word_features(doc), category) for (doc, category) in test_set]\n",
        "\n",
        "# Train Naive Bayes classifier\n",
        "classifier = NaiveBayesClassifier.train(training_features)\n",
        "\n",
        "# Evaluate accuracy of classifier\n",
        "print('Accuracy:', accuracy(classifier, testing_features))"
      ],
      "metadata": {
        "colab": {
          "base_uri": "https://localhost:8080/"
        },
        "id": "25sE9yCBfoOt",
        "outputId": "d5891c87-6043-489c-ea24-fc1fa5ca38f3"
      },
      "execution_count": 2,
      "outputs": [
        {
          "output_type": "stream",
          "name": "stderr",
          "text": [
            "[nltk_data] Downloading package movie_reviews to /root/nltk_data...\n",
            "[nltk_data]   Package movie_reviews is already up-to-date!\n"
          ]
        },
        {
          "output_type": "stream",
          "name": "stdout",
          "text": [
            "Accuracy: 0.942\n"
          ]
        }
      ]
    }
  ]
}